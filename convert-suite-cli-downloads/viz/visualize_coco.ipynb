{
 "cells": [
  {
   "cell_type": "code",
   "execution_count": null,
   "metadata": {},
   "outputs": [],
   "source": [
    "DOWNLOAD_DIR = '../data'\n",
    "INSTANCE_PATH = '../instance.json'"
   ]
  },
  {
   "cell_type": "code",
   "execution_count": null,
   "metadata": {},
   "outputs": [],
   "source": [
    "from pathlib import Path\n",
    "import json\n",
    "import random\n",
    "from PIL import Image, ImageDraw\n",
    "from pycocotools import mask as coco_mask\n",
    "\n",
    "def print_pretty_json(j):\n",
    "    print(json.dumps(j, indent=4))"
   ]
  },
  {
   "cell_type": "code",
   "execution_count": null,
   "metadata": {
    "scrolled": true
   },
   "outputs": [],
   "source": [
    "with open(Path(INSTANCE_PATH), 'r', encoding='utf-8') as f:\n",
    "    coco_json = json.load(f)\n",
    "print(coco_json.keys())\n",
    "print_pretty_json(coco_json['info'])\n",
    "print_pretty_json(coco_json['categories'])"
   ]
  },
  {
   "cell_type": "code",
   "execution_count": null,
   "metadata": {
    "scrolled": true
   },
   "outputs": [],
   "source": [
    "# Pick a random image\n",
    "image_json = random.choice(coco_json['images'])\n",
    "print_pretty_json(image_json)\n",
    "image_path = Path(DOWNLOAD_DIR, image_json['dataset'], image_json['file_name'])\n",
    "image = Image.open(image_path).convert(\"RGBA\")\n",
    "display(image)"
   ]
  },
  {
   "cell_type": "code",
   "execution_count": null,
   "metadata": {},
   "outputs": [],
   "source": [
    "# only pick annotations in the selected image\n",
    "annotations = [anno for anno in coco_json['annotations'] if anno['image_id'] == image_json['id']]\n",
    "if not annotations:\n",
    "    print('There is no annotation in the selected image')\n",
    "image_draw = ImageDraw.Draw(image)\n",
    "\n",
    "for anno in annotations:\n",
    "    segmentation = anno.get('segmentation')\n",
    "    if segmentation:\n",
    "        bitmask = coco_mask.decode(segmentation)\n",
    "        mask = Image.fromarray(bitmask*255, mode='L')\n",
    "        image_draw.bitmap((0, 0), mask, fill=(255, 0, 0, 128))\n",
    "    else:\n",
    "        bbox = anno['bbox']\n",
    "        image_draw.rectangle(((bbox[0], bbox[1]), (bbox[0]+bbox[2], bbox[1]+bbox[3])), outline=(255, 0, 0, 128), width=2)\n",
    "display(image)"
   ]
  }
 ],
 "metadata": {
  "kernelspec": {
   "display_name": "Python 3",
   "language": "python",
   "name": "python3"
  },
  "language_info": {
   "codemirror_mode": {
    "name": "ipython",
    "version": 3
   },
   "file_extension": ".py",
   "mimetype": "text/x-python",
   "name": "python",
   "nbconvert_exporter": "python",
   "pygments_lexer": "ipython3",
   "version": "3.7.6"
  }
 },
 "nbformat": 4,
 "nbformat_minor": 4
}
