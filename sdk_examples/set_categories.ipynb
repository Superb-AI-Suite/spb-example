{
 "cells": [
  {
   "attachments": {},
   "cell_type": "markdown",
   "metadata": {},
   "source": [
    "## Load Suite SDK\n",
    "### Please update spb-cli with 'pip install spb-cli --upgrade'"
   ]
  },
  {
   "cell_type": "code",
   "execution_count": null,
   "metadata": {},
   "outputs": [],
   "source": [
    "import spb.sdk\n",
    "\n",
    "# Print Suite SDK version\n",
    "print(spb.sdk.__version__)"
   ]
  },
  {
   "attachments": {},
   "cell_type": "markdown",
   "metadata": {},
   "source": [
    "### Initialize Client with Team name and Access key"
   ]
  },
  {
   "cell_type": "code",
   "execution_count": null,
   "metadata": {},
   "outputs": [],
   "source": [
    "import os\n",
    "\n",
    "project_name=\"PROJECT_NAME\"\n",
    "team_name = 'TEAM_NAME'\n",
    "access_key = 'ACCESS_KEY'\n",
    "client = spb.sdk.Client(project_name=project_name, team_name=team_name, access_key=access_key)\n",
    "# Print project information\n",
    "print('Project Name: {}'.format(client.get_project_name()))\n",
    "print('Total number of data: {}'.format(client.get_num_data()))"
   ]
  },
  {
   "attachments": {},
   "cell_type": "markdown",
   "metadata": {},
   "source": [
    "### Set project by name"
   ]
  },
  {
   "cell_type": "code",
   "execution_count": null,
   "metadata": {},
   "outputs": [],
   "source": [
    "client = spb.sdk.Client()\n",
    "project = client.get_project('PROJECT_NAME')\n",
    "client.set_project(project)\n",
    "\n",
    "# Print project information\n",
    "print('Project ID: {}'.format(client.get_project_id()))\n",
    "print('Project Name: {}'.format(client.get_project_name()))\n",
    "print('Total number of data: {}'.format(client.get_num_data()))"
   ]
  },
  {
   "attachments": {},
   "cell_type": "markdown",
   "metadata": {},
   "source": [
    "### Set Categories using dataset filter"
   ]
  },
  {
   "cell_type": "code",
   "execution_count": null,
   "metadata": {},
   "outputs": [],
   "source": [
    "dataset = 'DATASET_NAME'\n",
    "\n",
    "# Total number of data in your dataset\n",
    "num_data = client.get_num_data(dataset=dataset)\n",
    "num_page = (num_data + 9) // 10\n",
    "\n",
    "print('Size of \"{}\" dataset: {}'.format(dataset, num_data))\n",
    "\n",
    "# loop through all the data in the dataset\n",
    "for page_idx in range(num_page):\n",
    "    for data_handler in client.get_data_page(page_idx=page_idx, page_size=10, dataset=dataset):\n",
    "        data_handler.set_category_labels(properties=[\n",
    "                        {\n",
    "                            \"name\": \"testing\",\n",
    "                            \"value\": \"yes\"\n",
    "                        }\n",
    "                    ])\n",
    "        data_handler.update_data()\n"
   ]
  },
  {
   "attachments": {},
   "cell_type": "markdown",
   "metadata": {},
   "source": [
    "### Set Categories using tags filter"
   ]
  },
  {
   "cell_type": "code",
   "execution_count": null,
   "metadata": {},
   "outputs": [],
   "source": [
    "tags = ['TAG_NAME']\n",
    "\n",
    "# Number of data containing all the tags\n",
    "num_data = client.get_num_data(tags=tags)\n",
    "num_page = (num_data + 9) // 10\n",
    "\n",
    "print('Number of data containing tags {}: {}'.format(tags, num_data))\n",
    "\n",
    "# loop through data in the filtered list of data\n",
    "for page_idx in range(num_page):\n",
    "    for data_handler in client.get_data_page(page_idx=page_idx, page_size=10, tags=tags):\n",
    "        data_handler.set_category_labels(properties=[\n",
    "                        {\n",
    "                            \"name\": \"Image Category Name\",\n",
    "                            \"value\": \"Value Name\"\n",
    "                        }\n",
    "                    ])\n",
    "        data_handler.update_data()\n"
   ]
  },
  {
   "attachments": {},
   "cell_type": "markdown",
   "metadata": {},
   "source": [
    "### Set Categories using datasets with mulit-processing with 5 processes\n",
    "#### We recommend using less than 10 processes"
   ]
  },
  {
   "cell_type": "code",
   "execution_count": null,
   "metadata": {},
   "outputs": [],
   "source": [
    "from multiprocessing import Process\n",
    "import math\n",
    "\n",
    "dataset = 'DATASET_NAME'\n",
    "\n",
    "# Total number of data in your dataset\n",
    "num_data = client.get_num_data(dataset=dataset)\n",
    "num_page = (num_data + 9) // 10\n",
    "print('Size of \"{}\" dataset: {}'.format(dataset, num_data))\n",
    "\n",
    "def upload_by_dataset(dataset_name: str, start_page: int, num_page: int):\n",
    "    for page_idx in range(start_page, num_page):\n",
    "        for data_handler in client.get_data_page(page_idx=page_idx, page_size=10, dataset=dataset):\n",
    "            data_handler.set_category_labels(properties=[\n",
    "                            {\n",
    "                                \"name\": \"testing\",\n",
    "                                \"value\": \"yes\"\n",
    "                            }\n",
    "                        ])\n",
    "            data_handler.update_data()\n",
    "\n",
    "split = math.ceil(num_page / 5)\n",
    "procs = []\n",
    "\n",
    "for i in range(5):\n",
    "    start = split * i\n",
    "    proc = Process(target=upload_by_dataset, args=(dataset, start, start + split + 1))\n",
    "    procs.append(proc)\n",
    "    proc.start()\n",
    "\n",
    "for proc in procs:\n",
    "    proc.join()\n",
    "\n"
   ]
  },
  {
   "attachments": {},
   "cell_type": "markdown",
   "metadata": {},
   "source": [
    "### Set Categories using tags with mulit-processing with 5 processes\n",
    "#### We recommend using less than 10 processes"
   ]
  },
  {
   "cell_type": "code",
   "execution_count": null,
   "metadata": {},
   "outputs": [],
   "source": [
    "from multiprocessing import Process\n",
    "import math\n",
    "\n",
    "tags = ['test']\n",
    "\n",
    "# Number of data containing all the tags\n",
    "num_data = client.get_num_data(tags=tags)\n",
    "num_page = (num_data + 9) // 10\n",
    "\n",
    "print('Number of data containing tags {}: {}'.format(tags, num_data))\n",
    "\n",
    "def upoload_by_tag(tags: str, start_page: int, num_page: int):\n",
    "    for page_idx in range(start_page, num_page):\n",
    "        for data_handler in client.get_data_page(page_idx=page_idx, page_size=10, tags=tags):\n",
    "            data_handler.set_category_labels(properties=[\n",
    "                            {\n",
    "                                \"name\": \"Image Category Name\",\n",
    "                                \"value\": \"Value Name\"\n",
    "                            }\n",
    "                        ])\n",
    "            data_handler.update_data()\n",
    "\n",
    "split = math.ceil(num_page / 5)\n",
    "procs = []\n",
    "# proc = Process(targef upoload_by_tag)  # instantiating without any argument\n",
    "# procs.append(proc)\n",
    "# proc.start()\n",
    "for i in range(5):\n",
    "    start = split * i\n",
    "    proc = Process(target=upoload_by_tag, args=(dataset, start, start + split + 1))\n",
    "    procs.append(proc)\n",
    "    proc.start()\n",
    "\n",
    "for proc in procs:\n",
    "    proc.join()\n"
   ]
  }
 ],
 "metadata": {
  "kernelspec": {
   "display_name": "converting",
   "language": "python",
   "name": "python3"
  },
  "language_info": {
   "codemirror_mode": {
    "name": "ipython",
    "version": 3
   },
   "file_extension": ".py",
   "mimetype": "text/x-python",
   "name": "python",
   "nbconvert_exporter": "python",
   "pygments_lexer": "ipython3",
   "version": "3.7.11 (default, Jul 27 2021, 14:32:16) \n[GCC 7.5.0]"
  },
  "orig_nbformat": 4,
  "vscode": {
   "interpreter": {
    "hash": "d66d664c37547638352e34f0fdd70bb22b87170e7a0275e3c5066408e36e32b1"
   }
  }
 },
 "nbformat": 4,
 "nbformat_minor": 2
}
